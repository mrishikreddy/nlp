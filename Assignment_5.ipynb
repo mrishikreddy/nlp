{
  "nbformat": 4,
  "nbformat_minor": 0,
  "metadata": {
    "colab": {
      "provenance": [],
      "include_colab_link": true
    },
    "kernelspec": {
      "name": "python3",
      "display_name": "Python 3"
    },
    "language_info": {
      "name": "python"
    }
  },
  "cells": [
    {
      "cell_type": "markdown",
      "metadata": {
        "id": "view-in-github",
        "colab_type": "text"
      },
      "source": [
        "<a href=\"https://colab.research.google.com/github/mrishikreddy/nlp/blob/main/Assignment_5.ipynb\" target=\"_parent\"><img src=\"https://colab.research.google.com/assets/colab-badge.svg\" alt=\"Open In Colab\"/></a>"
      ]
    },
    {
      "cell_type": "markdown",
      "source": [
        "Implement a Hidden Markov Model (HMM) for weather forecasting, taking scenario where we have hidden weather states (e.g., \"Sunny\" and \"Rainy\") and observable events (e.g., \"Dry\", \"Damp\", \"Wet\"). The goal is to predict the sequence of weather states based on the observations.\n",
        "\n",
        "Problem Setup\n",
        "\n",
        "States (S): Hidden states representing the weather (e.g., \"Sunny\", \"Rainy\").\n",
        "Observations (O): Observable events that we can measure (e.g., \"Dry\", \"Damp\", \"Wet\").\n",
        "Transition Probabilities (A): The probability of transitioning from one weather state to another."
      ],
      "metadata": {
        "id": "5WtdxkjTDhhB"
      }
    },
    {
      "cell_type": "code",
      "execution_count": null,
      "metadata": {
        "colab": {
          "base_uri": "https://localhost:8080/"
        },
        "id": "pGUzwSYvBBzt",
        "outputId": "933b7f69-5fbc-4718-c377-81f26ce6a729"
      },
      "outputs": [
        {
          "output_type": "stream",
          "name": "stdout",
          "text": [
            "Collecting hmmlearn\n",
            "  Downloading hmmlearn-0.3.2-cp310-cp310-manylinux_2_17_x86_64.manylinux2014_x86_64.whl.metadata (2.9 kB)\n",
            "Requirement already satisfied: numpy>=1.10 in /usr/local/lib/python3.10/dist-packages (from hmmlearn) (1.26.4)\n",
            "Requirement already satisfied: scikit-learn!=0.22.0,>=0.16 in /usr/local/lib/python3.10/dist-packages (from hmmlearn) (1.3.2)\n",
            "Requirement already satisfied: scipy>=0.19 in /usr/local/lib/python3.10/dist-packages (from hmmlearn) (1.13.1)\n",
            "Requirement already satisfied: joblib>=1.1.1 in /usr/local/lib/python3.10/dist-packages (from scikit-learn!=0.22.0,>=0.16->hmmlearn) (1.4.2)\n",
            "Requirement already satisfied: threadpoolctl>=2.0.0 in /usr/local/lib/python3.10/dist-packages (from scikit-learn!=0.22.0,>=0.16->hmmlearn) (3.5.0)\n",
            "Downloading hmmlearn-0.3.2-cp310-cp310-manylinux_2_17_x86_64.manylinux2014_x86_64.whl (161 kB)\n",
            "\u001b[2K   \u001b[90m━━━━━━━━━━━━━━━━━━━━━━━━━━━━━━━━━━━━━━━━\u001b[0m \u001b[32m161.1/161.1 kB\u001b[0m \u001b[31m3.0 MB/s\u001b[0m eta \u001b[36m0:00:00\u001b[0m\n",
            "\u001b[?25hInstalling collected packages: hmmlearn\n",
            "Successfully installed hmmlearn-0.3.2\n"
          ]
        }
      ],
      "source": [
        "!pip install hmmlearn\n",
        "import numpy as np\n",
        "from hmmlearn import hmm\n",
        "states = [\"Sunny\", \"Rainy\"]\n",
        "n_states = len(states)\n",
        "observations = [\"Dry\", \"Damp\", \"Wet\"]\n",
        "n_observations = len(observations)\n",
        "transition_prob = np.array([\n",
        "    [0.7, 0.3],  # Sunny -> Sunny, Sunny -> Rainy\n",
        "    [0.4, 0.6]   # Rainy -> Sunny, Rainy -> Rainy\n",
        "])"
      ]
    },
    {
      "cell_type": "markdown",
      "source": [
        "\n",
        " Emission Probabilities (B): The probability of observing a certain event given the weather state.\n",
        "\n",
        "Initial Probabilities (π): The probability distribution over the initial states. Take different transition and emission probabilities or observation sequences on above problem and see how the model's predictions change.\n",
        "\n"
      ],
      "metadata": {
        "id": "fLxeLJJgO-rE"
      }
    },
    {
      "cell_type": "code",
      "source": [
        "emission_prob = np.array([\n",
        "    [0.8, 0.15, 0.05],\n",
        "    [0.1, 0.35, 0.55]\n",
        "])\n",
        "start_prob = np.array([0.6, 0.4])\n"
      ],
      "metadata": {
        "id": "m6GqDQBnEuj-"
      },
      "execution_count": null,
      "outputs": []
    },
    {
      "cell_type": "code",
      "source": [
        "model = hmm.MultinomialHMM(n_components=n_states)\n",
        "model.startprob_ = start_prob\n",
        "model.transmat_ = transition_prob\n",
        "model.emissionprob_ = emission_prob\n",
        "observation_sequence = np.array([0, 1, 2, 0, 1]).reshape(-1, 1)"
      ],
      "metadata": {
        "colab": {
          "base_uri": "https://localhost:8080/"
        },
        "id": "l_-rt6_6FHgR",
        "outputId": "13d2dfa4-a0d1-49d2-f74c-79a020f0fae5"
      },
      "execution_count": null,
      "outputs": [
        {
          "output_type": "stream",
          "name": "stderr",
          "text": [
            "WARNING:hmmlearn.hmm:MultinomialHMM has undergone major changes. The previous version was implementing a CategoricalHMM (a special case of MultinomialHMM). This new implementation follows the standard definition for a Multinomial distribution (e.g. as in https://en.wikipedia.org/wiki/Multinomial_distribution). See these issues for details:\n",
            "https://github.com/hmmlearn/hmmlearn/issues/335\n",
            "https://github.com/hmmlearn/hmmlearn/issues/340\n"
          ]
        }
      ]
    },
    {
      "cell_type": "code",
      "source": [
        "print(\"Observation sequence:\", [observations[i[0]] for i in observation_sequence])"
      ],
      "metadata": {
        "colab": {
          "base_uri": "https://localhost:8080/"
        },
        "id": "B7sCbuSyFHbO",
        "outputId": "86ff1438-613c-4bf4-d666-eae6604df5f6"
      },
      "execution_count": null,
      "outputs": [
        {
          "output_type": "stream",
          "name": "stdout",
          "text": [
            "Observation sequence: ['Dry', 'Damp', 'Wet', 'Dry', 'Damp']\n"
          ]
        }
      ]
    },
    {
      "cell_type": "code",
      "source": [
        "new_observation_sequence = np.array([2, 2, 1, 0]).reshape(-1, 1)\n",
        "print(\"New Observation sequence:\", [observations[i[0]] for i in new_observation_sequence])"
      ],
      "metadata": {
        "colab": {
          "base_uri": "https://localhost:8080/"
        },
        "id": "7Jrk8TxFFHLR",
        "outputId": "d019ba3b-5f5f-42f1-f03c-1ac23dcb0df7"
      },
      "execution_count": null,
      "outputs": [
        {
          "output_type": "stream",
          "name": "stdout",
          "text": [
            "New Observation sequence: ['Wet', 'Wet', 'Damp', 'Dry']\n"
          ]
        }
      ]
    },
    {
      "cell_type": "code",
      "source": [],
      "metadata": {
        "id": "8mKHtZq3GmJS"
      },
      "execution_count": null,
      "outputs": []
    }
  ]
}