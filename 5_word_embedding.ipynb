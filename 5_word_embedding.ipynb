{
  "nbformat": 4,
  "nbformat_minor": 0,
  "metadata": {
    "colab": {
      "provenance": [],
      "authorship_tag": "ABX9TyPsVSZVZPkNyFoF8WC+IMXB",
      "include_colab_link": true
    },
    "kernelspec": {
      "name": "python3",
      "display_name": "Python 3"
    },
    "language_info": {
      "name": "python"
    }
  },
  "cells": [
    {
      "cell_type": "markdown",
      "metadata": {
        "id": "view-in-github",
        "colab_type": "text"
      },
      "source": [
        "<a href=\"https://colab.research.google.com/github/mrishikreddy/nlp/blob/main/5_word_embedding.ipynb\" target=\"_parent\"><img src=\"https://colab.research.google.com/assets/colab-badge.svg\" alt=\"Open In Colab\"/></a>"
      ]
    },
    {
      "cell_type": "code",
      "execution_count": null,
      "metadata": {
        "id": "pD47uV7F6vdm"
      },
      "outputs": [],
      "source": [
        "import spacy\n",
        "import gensim.downloader as api\n",
        "from gensim.models import Word2Vec\n",
        "from sklearn.decomposition import PCA\n",
        "import matplotlib.pyplot as plt"
      ]
    },
    {
      "cell_type": "code",
      "source": [
        "word_vectors = api.load(\"glove-wiki-gigaword-100\")"
      ],
      "metadata": {
        "colab": {
          "base_uri": "https://localhost:8080/"
        },
        "id": "lIbeiYoZ7o0N",
        "outputId": "1720393c-3441-426f-a507-f92139cf1efd"
      },
      "execution_count": null,
      "outputs": [
        {
          "output_type": "stream",
          "name": "stdout",
          "text": [
            "[==================================================] 100.0% 128.1/128.1MB downloaded\n"
          ]
        }
      ]
    },
    {
      "cell_type": "code",
      "source": [
        "def explore_embeddings(word):\n",
        "  similar_words = word_vectors.most_similar(word)\n",
        "  print(f\"Words most similar to '{word} are: \")\n",
        "  for similar_word,similarity in similar_words:\n",
        "    print(f\"{similar_word}:{similarity:.4f}\")\n",
        "explore_embeddings(\"king\")"
      ],
      "metadata": {
        "colab": {
          "base_uri": "https://localhost:8080/"
        },
        "id": "8mwCwCIB7_mo",
        "outputId": "d6736627-bfa3-4c92-b45b-0887eac8d809"
      },
      "execution_count": null,
      "outputs": [
        {
          "output_type": "stream",
          "name": "stdout",
          "text": [
            "Words most similar to 'king are: \n",
            "prince:0.7682\n",
            "queen:0.7508\n",
            "son:0.7021\n",
            "brother:0.6986\n",
            "monarch:0.6978\n",
            "throne:0.6920\n",
            "kingdom:0.6811\n",
            "father:0.6802\n",
            "emperor:0.6713\n",
            "ii:0.6676\n"
          ]
        }
      ]
    }
  ]
}