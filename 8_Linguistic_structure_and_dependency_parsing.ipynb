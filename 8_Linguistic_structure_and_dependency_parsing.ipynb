{
  "nbformat": 4,
  "nbformat_minor": 0,
  "metadata": {
    "colab": {
      "provenance": [],
      "authorship_tag": "ABX9TyPX/xnaOtWcKsEL/7kgzBk/",
      "include_colab_link": true
    },
    "kernelspec": {
      "name": "python3",
      "display_name": "Python 3"
    },
    "language_info": {
      "name": "python"
    }
  },
  "cells": [
    {
      "cell_type": "markdown",
      "metadata": {
        "id": "view-in-github",
        "colab_type": "text"
      },
      "source": [
        "<a href=\"https://colab.research.google.com/github/mrishikreddy/nlp/blob/main/8_Linguistic_structure_and_dependency_parsing.ipynb\" target=\"_parent\"><img src=\"https://colab.research.google.com/assets/colab-badge.svg\" alt=\"Open In Colab\"/></a>"
      ]
    },
    {
      "cell_type": "code",
      "source": [
        "import spacy"
      ],
      "metadata": {
        "id": "npKzNW4ODtte"
      },
      "execution_count": 1,
      "outputs": []
    },
    {
      "cell_type": "code",
      "execution_count": 2,
      "metadata": {
        "id": "1Lz7ad7LDF4d"
      },
      "outputs": [],
      "source": [
        "nlp = spacy.load(\"en_core_web_sm\")\n",
        "sentence = \"The quick brown fox jumps over the lazy dog.\"\n",
        "doc = nlp(sentence)\n"
      ]
    },
    {
      "cell_type": "code",
      "source": [
        "for token in doc:\n",
        "    print(f\"Word: {token.text}, POS: {token.pos_}, Dependency: {token.dep_}, Head: {token.head.text}\")"
      ],
      "metadata": {
        "colab": {
          "base_uri": "https://localhost:8080/"
        },
        "id": "o26-XZMyDY55",
        "outputId": "6228b073-acac-40e6-d0e5-f4b19c76c03e"
      },
      "execution_count": 4,
      "outputs": [
        {
          "output_type": "stream",
          "name": "stdout",
          "text": [
            "Word: The, POS: DET, Dependency: det, Head: fox\n",
            "Word: quick, POS: ADJ, Dependency: amod, Head: fox\n",
            "Word: brown, POS: ADJ, Dependency: amod, Head: fox\n",
            "Word: fox, POS: NOUN, Dependency: nsubj, Head: jumps\n",
            "Word: jumps, POS: VERB, Dependency: ROOT, Head: jumps\n",
            "Word: over, POS: ADP, Dependency: prep, Head: jumps\n",
            "Word: the, POS: DET, Dependency: det, Head: dog\n",
            "Word: lazy, POS: ADJ, Dependency: amod, Head: dog\n",
            "Word: dog, POS: NOUN, Dependency: pobj, Head: over\n",
            "Word: ., POS: PUNCT, Dependency: punct, Head: jumps\n"
          ]
        }
      ]
    }
  ]
}