{
  "nbformat": 4,
  "nbformat_minor": 0,
  "metadata": {
    "colab": {
      "provenance": [],
      "authorship_tag": "ABX9TyN5rTqzPr/52ggVgYsRyrMD",
      "include_colab_link": true
    },
    "kernelspec": {
      "name": "python3",
      "display_name": "Python 3"
    },
    "language_info": {
      "name": "python"
    }
  },
  "cells": [
    {
      "cell_type": "markdown",
      "metadata": {
        "id": "view-in-github",
        "colab_type": "text"
      },
      "source": [
        "<a href=\"https://colab.research.google.com/github/mrishikreddy/nlp/blob/main/4_word_representation.ipynb\" target=\"_parent\"><img src=\"https://colab.research.google.com/assets/colab-badge.svg\" alt=\"Open In Colab\"/></a>"
      ]
    },
    {
      "cell_type": "code",
      "execution_count": 7,
      "metadata": {
        "id": "mGak4MgnG8ES"
      },
      "outputs": [],
      "source": [
        " #!pip install scikit-learn"
      ]
    },
    {
      "cell_type": "code",
      "source": [
        "from sklearn.feature_extraction.text import CountVectorizer, TfidfVectorizer"
      ],
      "metadata": {
        "id": "ZTq1-XZ8Hfms"
      },
      "execution_count": 3,
      "outputs": []
    },
    {
      "cell_type": "code",
      "source": [
        "text = [\"Currently Iam learning about tokenization and vectorization.\",\n",
        "        \"Tokenization is the process of breaking text into smaller pieces\"]"
      ],
      "metadata": {
        "id": "A0BaXHonHyGK"
      },
      "execution_count": 4,
      "outputs": []
    },
    {
      "cell_type": "code",
      "source": [
        "count_vect = CountVectorizer()\n",
        "count_vector = count_vect.fit_transform(text)\n",
        "print(\"Count vector representation: \",count_vector.toarray())\n",
        "print(\"Feature Names:\",count_vect.get_feature_names_out())"
      ],
      "metadata": {
        "colab": {
          "base_uri": "https://localhost:8080/"
        },
        "id": "4EV-dmTyILfh",
        "outputId": "d10fbacc-d3fd-42d0-eda9-501bee8ef0ef"
      },
      "execution_count": 5,
      "outputs": [
        {
          "output_type": "stream",
          "name": "stdout",
          "text": [
            "Count vector representation:  [[1 1 0 1 1 0 0 1 0 0 0 0 0 0 1 1]\n",
            " [0 0 1 0 0 1 1 0 1 1 1 1 1 1 1 0]]\n",
            "Feature Names: ['about' 'and' 'breaking' 'currently' 'iam' 'into' 'is' 'learning' 'of'\n",
            " 'pieces' 'process' 'smaller' 'text' 'the' 'tokenization' 'vectorization']\n"
          ]
        }
      ]
    },
    {
      "cell_type": "code",
      "source": [
        "tfidf_vect = TfidfVectorizer()\n",
        "tfid_vector = tfidf_vect.fit_transform(text)\n",
        "print(\"TFIDF vector representation: \",tfid_vector.toarray())\n",
        "print(\"Feature Names:\",tfidf_vect.get_feature_names_out())"
      ],
      "metadata": {
        "colab": {
          "base_uri": "https://localhost:8080/"
        },
        "id": "GGjILKU7I-y_",
        "outputId": "913660bb-e1f3-4d6c-81d4-318c55ac1c50"
      },
      "execution_count": 6,
      "outputs": [
        {
          "output_type": "stream",
          "name": "stdout",
          "text": [
            "TFIDF vector representation:  [[0.39204401 0.39204401 0.         0.39204401 0.39204401 0.\n",
            "  0.         0.39204401 0.         0.         0.         0.\n",
            "  0.         0.         0.27894255 0.39204401]\n",
            " [0.         0.         0.32433627 0.         0.         0.32433627\n",
            "  0.32433627 0.         0.32433627 0.32433627 0.32433627 0.32433627\n",
            "  0.32433627 0.32433627 0.23076793 0.        ]]\n",
            "Feature Names: ['about' 'and' 'breaking' 'currently' 'iam' 'into' 'is' 'learning' 'of'\n",
            " 'pieces' 'process' 'smaller' 'text' 'the' 'tokenization' 'vectorization']\n"
          ]
        }
      ]
    }
  ]
}