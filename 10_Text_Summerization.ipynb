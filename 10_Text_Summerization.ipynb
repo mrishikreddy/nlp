{
  "cells": [
    {
      "cell_type": "markdown",
      "metadata": {
        "id": "view-in-github",
        "colab_type": "text"
      },
      "source": [
        "<a href=\"https://colab.research.google.com/github/mrishikreddy/nlp/blob/main/10_Text_Summerization.ipynb\" target=\"_parent\"><img src=\"https://colab.research.google.com/assets/colab-badge.svg\" alt=\"Open In Colab\"/></a>"
      ]
    },
    {
      "cell_type": "markdown",
      "metadata": {
        "id": "4wFV1-q8L1mL"
      },
      "source": [
        "# Text Summarization using LLM\n"
      ]
    },
    {
      "cell_type": "code",
      "execution_count": null,
      "metadata": {
        "colab": {
          "background_save": true
        },
        "id": "1fa_9Qt0TDva",
        "outputId": "01a285a9-96be-4a62-8ef8-a3af9aab8bf0"
      },
      "outputs": [
        {
          "name": "stdout",
          "output_type": "stream",
          "text": [
            "Summary of the News Article:\n",
            "\n",
            "Chief Minister Revanth Reddy will release the state action plan on antimicrobial resistance (AMR) The AMR is a global health challenge that occurs when bacteria, viruses, fungi and parasites no longer respond to antimicrobial medicines.\n",
            " The conference will bring together over 1,500 delegates from India and the Global South.\n",
            " The event will also result in two releases: a white paper based on post-conference deliberations and critical guidelines to improve healthcare practices to prevent infections and pandemics, said R.\n",
            " Govind Hari, co-chair of G-SPARC.\n",
            "\n"
          ]
        }
      ],
      "source": [
        "from transformers import pipeline\n",
        "\n",
        "\n",
        "summarizer = pipeline(\"summarization\", model=\"facebook/bart-large-cnn\")\n",
        "\n",
        "\n",
        "article = \"\"\"\n",
        "Hyderabad: Chief Minister Revanth Reddy will release the state action plan on antimicrobial resistance (AMR)\n",
        "in the inaugural ceremony of a three-day conference on infection prevention, control and antimicrobial stewardship\n",
        "in the Global South (G-SPARC), which will be held from October 3 to 5 at Shilpakala Vedika in Hyderabad. With this,\n",
        "Telangana will become the seventh state in the country to have a state action plan on AMR. The AMR is a global health\n",
        "challenge that occurs when bacteria, viruses, fungi and parasites no longer respond to antimicrobial medicines.\n",
        "The conference will bring together over 1,500 delegates from India and the Global South, including key stakeholders\n",
        "in AMR stewardship and infection prevention. \"This conference will prepare guidance tackling AMR and healthcare-associated\n",
        "infections for the next 10-20 years. The event will also result in two releases: a white paper based on post-conference\n",
        "deliberations and critical guidelines to improve healthcare practices to prevent infections and pandemics,\" said R. Govind Hari,\n",
        "chairman of the Pragyaan Sustainable Health Outcomes Foundation (PRASHO), and co-chair of G-SPARC.\n",
        "\n",
        "\n",
        "\n",
        "Conference chairman Dr Ranga Reddy Burra, president of the Infection Control Academy of India, said that strong\n",
        "surveillance mechanisms, manpower and resources were needed to understand the drivers of the rising tide of AMR and ways to tackle it.\n",
        "Strategies need to be developed at a global, national, and local level, including at an individual healthcare institution's level.\n",
        "The problem needs a diverse set of solutions as it is multi-sectoral and multi-factorial. Speaking to Deccan Chronicle,\n",
        "Dr Burri mentioned that a detailed, outcome-based action plan would be prepared for Telangana to combat AMR. \"We need to strengthen\n",
        "the infrastructure and train healthcare professionals. It will require Rs 200 crore- Rs 300 crore to combat the AMR menace.\n",
        "So far, all action plans, including the national plan, do not have budgetary allocations. Telangana government has been our\n",
        "backbone in addressing the issue, and hopefully will become the first state to allocate money,\" he said. Dr Burri said the\n",
        "conference was focused on the \"Global South\" because it included resource-constrained regions like Asia, Africa, and\n",
        "South America, which are disproportionately affected by AMR, making collaboration of these countries essential to finding sustainable solutions.\n",
        "\n",
        "\"\"\"\n",
        "summary = summarizer(article, max_length=200, min_length=100, do_sample=False)\n",
        "formatted_summary = summary[0]['summary_text'].replace(\".\", \".\\n\")\n",
        "print(\"Summary of the News Article:\\n\")\n",
        "print(formatted_summary)"
      ]
    },
    {
      "cell_type": "code",
      "execution_count": null,
      "metadata": {
        "colab": {
          "base_uri": "https://localhost:8080/"
        },
        "id": "5Xevr7l4We0_",
        "outputId": "c929ad86-743f-467d-e069-cd5ea8c5d10d"
      },
      "outputs": [
        {
          "name": "stdout",
          "output_type": "stream",
          "text": [
            "Summary of the News Article:\n",
            "\n",
            "Telangana will become the seventh state in the country to have a state action plan on AMR.\n",
            " The conference will bring together over 1,500 delegates from India and the Global South.\n",
            " The event will also result in two releases: a white paper based on post-conference deliberations and critical guidelines to improve healthcare practices to prevent infections and pandemics.\n",
            " It will require Rs 200 crore- Rs 300 crore to combat the AMR menace, says Dr Ranga Reddy Burra, president of the Infection Control Academy of India.\n",
            "\n"
          ]
        }
      ],
      "source": [
        "from transformers import BartForConditionalGeneration, BartTokenizer\n",
        "\n",
        "\n",
        "model = BartForConditionalGeneration.from_pretrained('facebook/bart-large-cnn')\n",
        "tokenizer = BartTokenizer.from_pretrained('facebook/bart-large-cnn')\n",
        "\n",
        "\n",
        "article = \"\"\"Hyderabad: Chief Minister Revanth Reddy will release the state action plan on antimicrobial resistance (AMR)\n",
        "in the inaugural ceremony of a three-day conference on infection prevention, control and antimicrobial stewardship\n",
        "in the Global South (G-SPARC), which will be held from October 3 to 5 at Shilpakala Vedika in Hyderabad. With this,\n",
        "Telangana will become the seventh state in the country to have a state action plan on AMR. The AMR is a global health\n",
        "challenge that occurs when bacteria, viruses, fungi and parasites no longer respond to antimicrobial medicines.\n",
        "The conference will bring together over 1,500 delegates from India and the Global South, including key stakeholders\n",
        "in AMR stewardship and infection prevention. \"This conference will prepare guidance tackling AMR and healthcare-associated\n",
        "infections for the next 10-20 years. The event will also result in two releases: a white paper based on post-conference\n",
        "deliberations and critical guidelines to improve healthcare practices to prevent infections and pandemics,\" said R. Govind Hari,\n",
        "chairman of the Pragyaan Sustainable Health Outcomes Foundation (PRASHO), and co-chair of G-SPARC.\n",
        "\n",
        "\n",
        "\n",
        "Conference chairman Dr Ranga Reddy Burra, president of the Infection Control Academy of India, said that strong\n",
        "surveillance mechanisms, manpower and resources were needed to understand the drivers of the rising tide of AMR and ways to tackle it.\n",
        "Strategies need to be developed at a global, national, and local level, including at an individual healthcare institution's level.\n",
        "The problem needs a diverse set of solutions as it is multi-sectoral and multi-factorial. Speaking to Deccan Chronicle,\n",
        "Dr Burri mentioned that a detailed, outcome-based action plan would be prepared for Telangana to combat AMR. \"We need to strengthen\n",
        "the infrastructure and train healthcare professionals. It will require Rs 200 crore- Rs 300 crore to combat the AMR menace.\n",
        "So far, all action plans, including the national plan, do not have budgetary allocations. Telangana government has been our\n",
        "backbone in addressing the issue, and hopefully will become the first state to allocate money,\" he said. Dr Burri said the\n",
        "conference was focused on the \"Global South\" because it included resource-constrained regions like Asia, Africa, and\n",
        "South America, which are disproportionately affected by AMR, making collaboration of these countries essential to finding sustainable solutions.\n",
        "\"\"\"\n",
        "\n",
        "\n",
        "inputs = tokenizer([article], max_length=1024, return_tensors='pt', truncation=True)\n",
        "\n",
        "\n",
        "summary_ids = model.generate(inputs['input_ids'], max_length=200, min_length=100, length_penalty=2.0, num_beams=4, early_stopping=True)\n",
        "\n",
        "\n",
        "summary = tokenizer.decode(summary_ids[0], skip_special_tokens=True)\n",
        "\n",
        "\n",
        "formatted_summary = summary.replace(\".\", \".\\n\")\n",
        "\n",
        "\n",
        "print(\"Summary of the News Article:\\n\")\n",
        "print(formatted_summary)\n"
      ]
    }
  ],
  "metadata": {
    "colab": {
      "provenance": [],
      "authorship_tag": "ABX9TyNu0AttAKoByb93RWjSWZw4",
      "include_colab_link": true
    },
    "kernelspec": {
      "display_name": "Python 3",
      "name": "python3"
    },
    "language_info": {
      "name": "python"
    }
  },
  "nbformat": 4,
  "nbformat_minor": 0
}