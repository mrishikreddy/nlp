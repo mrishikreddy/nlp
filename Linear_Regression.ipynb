{
  "nbformat": 4,
  "nbformat_minor": 0,
  "metadata": {
    "colab": {
      "provenance": [],
      "authorship_tag": "ABX9TyOwbVBedLeizX9JAyGt7uTO",
      "include_colab_link": true
    },
    "kernelspec": {
      "name": "python3",
      "display_name": "Python 3"
    },
    "language_info": {
      "name": "python"
    }
  },
  "cells": [
    {
      "cell_type": "markdown",
      "metadata": {
        "id": "view-in-github",
        "colab_type": "text"
      },
      "source": [
        "<a href=\"https://colab.research.google.com/github/mrishikreddy/nlp/blob/main/Linear_Regression.ipynb\" target=\"_parent\"><img src=\"https://colab.research.google.com/assets/colab-badge.svg\" alt=\"Open In Colab\"/></a>"
      ]
    },
    {
      "cell_type": "code",
      "execution_count": 1,
      "metadata": {
        "id": "I6DG9p5L_lBR"
      },
      "outputs": [],
      "source": [
        "import numpy as np\n",
        "import matplotlib.pyplot as plt\n",
        "from sklearn.model_selection import train_test_split"
      ]
    },
    {
      "cell_type": "code",
      "source": [
        "np.random.seed(42)\n",
        "X = 2 * np.random.rand(100, 1)\n",
        "noise = np.random.randn(100, 1)\n",
        "Y = 3 * X + 5 + noise"
      ],
      "metadata": {
        "id": "7prq3B_I_swm"
      },
      "execution_count": 2,
      "outputs": []
    },
    {
      "cell_type": "code",
      "source": [
        "X_train, X_test, Y_train, Y_test = train_test_split(X, Y, test_size=0.3, random_state=42)"
      ],
      "metadata": {
        "id": "AmRK3pFI_5aR"
      },
      "execution_count": 3,
      "outputs": []
    },
    {
      "cell_type": "code",
      "source": [
        "w = np.random.randn(1)\n",
        "b = np.random.randn(1)"
      ],
      "metadata": {
        "id": "nivUw6BC_7rk"
      },
      "execution_count": 4,
      "outputs": []
    },
    {
      "cell_type": "code",
      "source": [
        "learning_rate = 0.01\n",
        "iterations = 1000"
      ],
      "metadata": {
        "id": "nO0kGHoI__OJ"
      },
      "execution_count": 5,
      "outputs": []
    },
    {
      "cell_type": "code",
      "source": [
        "def compute_mse(y_true, y_pred):\n",
        "    return np.mean((y_true - y_pred) ** 2)"
      ],
      "metadata": {
        "id": "h1PEyxZhAB5i"
      },
      "execution_count": 6,
      "outputs": []
    },
    {
      "cell_type": "code",
      "source": [
        "for i in range(iterations):\n",
        "    # Predictions\n",
        "    Y_pred_train = w * X_train + b\n",
        "\n",
        "    # Compute gradients\n",
        "    dw = -2 * np.mean(X_train * (Y_train - Y_pred_train))\n",
        "    db = -2 * np.mean(Y_train - Y_pred_train)\n",
        "\n",
        "    # Update parameters\n",
        "    w -= learning_rate * dw\n",
        "    b -= learning_rate * db\n",
        "\n",
        "    # Optional: Log progress\n",
        "    if i % 100 == 0:\n",
        "        mse = compute_mse(Y_train, Y_pred_train)\n",
        "        print(f\"Iteration {i}: MSE = {mse}\")\n"
      ],
      "metadata": {
        "colab": {
          "base_uri": "https://localhost:8080/"
        },
        "id": "RYL968XEAERC",
        "outputId": "a56f7034-8f78-43c6-ae08-afe11ebc0d02"
      },
      "execution_count": 7,
      "outputs": [
        {
          "output_type": "stream",
          "name": "stdout",
          "text": [
            "Iteration 0: MSE = 42.31003798524555\n",
            "Iteration 100: MSE = 0.969086797073791\n",
            "Iteration 200: MSE = 0.9305585121849717\n",
            "Iteration 300: MSE = 0.9149732936436665\n",
            "Iteration 400: MSE = 0.9064721877093955\n",
            "Iteration 500: MSE = 0.9018344635216133\n",
            "Iteration 600: MSE = 0.8993043824621235\n",
            "Iteration 700: MSE = 0.8979241127633247\n",
            "Iteration 800: MSE = 0.8971711153705039\n",
            "Iteration 900: MSE = 0.8967603224116428\n"
          ]
        }
      ]
    },
    {
      "cell_type": "code",
      "source": [
        "Y_pred_train = w * X_train + b\n",
        "Y_pred_test = w * X_test + b"
      ],
      "metadata": {
        "id": "Eo4TIOjTAGzk"
      },
      "execution_count": 8,
      "outputs": []
    },
    {
      "cell_type": "code",
      "source": [
        "rmse_train = np.sqrt(np.mean((Y_train - Y_pred_train) ** 2))\n",
        "rmse_test = np.sqrt(np.mean((Y_test - Y_pred_test) ** 2))"
      ],
      "metadata": {
        "id": "tjvplqc_ATjA"
      },
      "execution_count": 9,
      "outputs": []
    },
    {
      "cell_type": "code",
      "source": [
        "def compute_r2(y_true, y_pred):\n",
        "    ss_total = np.sum((y_true - np.mean(y_true)) ** 2)\n",
        "    ss_residual = np.sum((y_true - y_pred) ** 2)\n",
        "    return 1 - (ss_residual / ss_total)\n",
        "\n",
        "r2_train = compute_r2(Y_train, Y_pred_train)\n",
        "r2_test = compute_r2(Y_test, Y_pred_test)"
      ],
      "metadata": {
        "id": "kyfCgc7vAV7T"
      },
      "execution_count": 10,
      "outputs": []
    },
    {
      "cell_type": "code",
      "source": [
        "print(\"Model Performance:\")\n",
        "print(f\"Train RMSE: {rmse_train}\")\n",
        "print(f\"Test RMSE: {rmse_test}\")\n",
        "print(f\"Train R^2: {r2_train}\")\n",
        "print(f\"Test R^2: {r2_test}\")"
      ],
      "metadata": {
        "colab": {
          "base_uri": "https://localhost:8080/"
        },
        "id": "Of02XpXzAX40",
        "outputId": "09d11be0-9b3b-4669-cb55-1f926bbd4df8"
      },
      "execution_count": 11,
      "outputs": [
        {
          "output_type": "stream",
          "name": "stdout",
          "text": [
            "Model Performance:\n",
            "Train RMSE: 0.9468559641859584\n",
            "Test RMSE: 0.7963994165916791\n",
            "Train R^2: 0.724802854149403\n",
            "Test R^2: 0.8401701488695268\n"
          ]
        }
      ]
    },
    {
      "cell_type": "code",
      "source": [
        "plt.figure(figsize=(12, 6))\n",
        "plt.scatter(X, Y, label=\"Data\", color=\"blue\")\n",
        "plt.plot(X, w * X + b, label=\"Regression Line\", color=\"red\")\n",
        "plt.title(\"Linear Regression Fit\")\n",
        "plt.xlabel(\"X\")\n",
        "plt.ylabel(\"Y\")\n",
        "plt.legend()\n",
        "plt.show()"
      ],
      "metadata": {
        "colab": {
          "base_uri": "https://localhost:8080/",
          "height": 564
        },
        "id": "-K4asPrWAZuA",
        "outputId": "e2753e93-6f5d-41a0-e64d-793456ff6f4b"
      },
      "execution_count": 12,
      "outputs": [
        {
          "output_type": "display_data",
          "data": {
            "text/plain": [
              "<Figure size 1200x600 with 1 Axes>"
            ],
            "image/png": "[encoded data removed]"
          },
          "metadata": {}
        }
      ]
    }
  ]
}